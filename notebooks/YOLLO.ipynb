version https://git-lfs.github.com/spec/v1
oid sha256:d4c6ec1c4139819e2a62605705c52dbd116811fee58490e8e2227bba3fe9af86
size 16401
